{
 "cells": [
  {
   "cell_type": "code",
   "execution_count": null,
   "metadata": {},
   "outputs": [],
   "source": [
    "\"\"\"\n",
    "This file was used for initial development and further testing. It is for development only.\n",
    "If you wish to access the features of what-to-eat-decidotron 2021, please use the .py version. \n",
    "\"\"\""
   ]
  },
  {
   "cell_type": "code",
   "execution_count": 96,
   "metadata": {},
   "outputs": [],
   "source": [
    "import numpy as np\n",
    "\n",
    "class restaurant:\n",
    "    \n",
    "    def __init__(self, name, dist, rating, price) -> None:\n",
    "        self.name = name\n",
    "        self.dist_facor = np.exp(-0.5 * float(dist)**2)\n",
    "        self.rating_factor = float(rating)/5\n",
    "        self.price_factor = 4/float(price)\n",
    "\n",
    "        # Closer and higher rated restaurants are favored\n",
    "        # Score = 1/dist * rating/5 * (4 - price) = dist_facor * rating_factor * price_factor\n",
    "        self.favor_score = self.dist_facor * self.rating_factor * self.price_factor"
   ]
  },
  {
   "cell_type": "code",
   "execution_count": 99,
   "metadata": {},
   "outputs": [
    {
     "name": "stdout",
     "output_type": "stream",
     "text": [
      "Winner is JAPANGO SUSHI, with a final score of 1.0 and a favorable score of 1.38\n"
     ]
    }
   ],
   "source": [
    "# Text processor\n",
    "with open(\"Restaurant inputs.txt\", 'r', encoding=\"utf-8\") as restaurant_file:\n",
    "    data_all = restaurant_file.readlines()\n",
    "\n",
    "data_temp = data_all[1:]\n",
    "data_header = data_all[0].strip('\\n').replace(' ', '').split(',')\n",
    "\n",
    "ROW_NUM = 0\n",
    "restaurant_stats = []\n",
    "\n",
    "for row in data_temp:\n",
    "    row_temp = row.strip(' \\n')\n",
    "    row_temp = row_temp.strip(' \\t')\n",
    "    row_temp = row_temp.split(', ')\n",
    "\n",
    "    name_temp, dist_temp, rating_temp, price_temp = row_temp\n",
    "\n",
    "    restaurant_temp = Restaurant(name_temp, dist_temp, rating_temp, price_temp)\n",
    "    globals()[f'restaurant{ROW_NUM}'] = restaurant_temp\n",
    "\n",
    "    restaurant_stats.append(globals()[f'restaurant{ROW_NUM}'].favor_score)\n",
    "\n",
    "    ROW_NUM += 1\n",
    "\n",
    "restaurant_stats = np.array(restaurant_stats) / max(restaurant_stats)\n",
    "\n",
    "# Calculates the best restaurant\n",
    "final_score = []\n",
    "favor_score = []\n",
    "for i in range(ROW_NUM):\n",
    "    restaurant_temp = globals()[f'restaurant{i}']\n",
    "    RNG = np.random.rand()\n",
    "    final_score.append(round(RNG * restaurant_stats[i], 2))\n",
    "    favor_score.append(round(restaurant_temp.favor_score, 2))\n",
    "\n",
    "print (favor_score)\n",
    "\n",
    "winner_index = final_score.index(max(final_score))\n",
    "winner = globals()[f'restaurant{winner_index}']\n",
    "\n",
    "print(f'Winner is {winner.name}')\n",
    "print(f'It had a final score of {round(final_score[winner_index], 2)}')\n",
    "print(f'and a favorable score of {round(winner.favor_score, 2)}')"
   ]
  },
  {
   "cell_type": "code",
   "execution_count": null,
   "metadata": {},
   "outputs": [],
   "source": []
  }
 ],
 "metadata": {
  "kernelspec": {
   "display_name": "Python 3",
   "language": "python",
   "name": "python3"
  },
  "language_info": {
   "codemirror_mode": {
    "name": "ipython",
    "version": 3
   },
   "file_extension": ".py",
   "mimetype": "text/x-python",
   "name": "python",
   "nbconvert_exporter": "python",
   "pygments_lexer": "ipython3",
   "version": "3.11.0 (main, Oct 24 2022, 18:26:48) [MSC v.1933 64 bit (AMD64)]"
  },
  "orig_nbformat": 4,
  "vscode": {
   "interpreter": {
    "hash": "112ded78269f5cfbc77f9af34519d6580fc3459ea1a36cd468db0341a3f14a5c"
   }
  }
 },
 "nbformat": 4,
 "nbformat_minor": 2
}
